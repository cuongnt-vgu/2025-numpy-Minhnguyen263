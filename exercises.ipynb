{
 "cells": [
  {
   "cell_type": "code",
   "execution_count": 1,
   "metadata": {},
   "outputs": [
    {
     "name": "stdout",
     "output_type": "stream",
     "text": [
      "Setup Complete\n"
     ]
    }
   ],
   "source": [
    "# Importing dependencies\n",
    "\n",
    "from learntools.core import binder\n",
    "import numpy as np\n",
    "\n",
    "binder.bind(globals())\n",
    "\n",
    "from learntools_ex import *\n",
    "\n",
    "print(\"Setup Complete\")"
   ]
  },
  {
   "cell_type": "markdown",
   "metadata": {},
   "source": [
    "## **Questions**"
   ]
  },
  {
   "cell_type": "markdown",
   "metadata": {},
   "source": [
    "### **IMPORTANT**: You **don't** have to delete any `q{n}.check()` or `q{n}.hint()` or `q{n}_sol = question_{n}()`. Please make sure that the function name and function signature match the question and the example given. Additionally, all functions should be runnable or your solution will not be evaluated."
   ]
  },
  {
   "cell_type": "markdown",
   "metadata": {},
   "source": [
    "## **Q1:** Create a one-dimensional NumPy array of the numbers from 5 to 905, counting by 10, exclusive 905?"
   ]
  },
  {
   "cell_type": "code",
   "execution_count": null,
   "metadata": {},
   "outputs": [],
   "source": [
    "import numpy as np\n",
    "arr = np.arange(5, 905, 10)\n",
    "print(arr)"
   ]
  },
  {
   "cell_type": "markdown",
   "metadata": {},
   "source": [
    "## **Q2**: Create the same NumPy array using a Python range and a list? (Hint: create a list)"
   ]
  },
  {
   "cell_type": "code",
   "execution_count": 2,
   "metadata": {},
   "outputs": [
    {
     "name": "stdout",
     "output_type": "stream",
     "text": [
      "[  5  15  25  35  45  55  65  75  85  95 105 115 125 135 145 155 165 175\n",
      " 185 195 205 215 225 235 245 255 265 275 285 295 305 315 325 335 345 355\n",
      " 365 375 385 395 405 415 425 435 445 455 465 475 485 495 505 515 525 535\n",
      " 545 555 565 575 585 595 605 615 625 635 645 655 665 675 685 695 705 715\n",
      " 725 735 745 755 765 775 785 795 805 815 825 835 845 855 865 875 885 895]\n"
     ]
    }
   ],
   "source": [
    "import numpy as np\n",
    "\n",
    "\n",
    "py_range = range(5, 905, 10)\n",
    "\n",
    "\n",
    "arr = np.array(list(py_range))\n",
    "\n",
    "print(arr)"
   ]
  },
  {
   "cell_type": "markdown",
   "metadata": {},
   "source": [
    "## **Q3**: How might you create a NumPy array of the capital letters, A-Z? (Hint: Ever heard of string.ascii_uppercase?)"
   ]
  },
  {
   "cell_type": "code",
   "execution_count": null,
   "metadata": {},
   "outputs": [],
   "source": [
    "import numpy as np\n",
    "import string\n",
    "\n",
    "letters_array = np.array(list(string.ascii_uppercase))\n",
    "\n",
    "print(letters_array)"
   ]
  },
  {
   "cell_type": "markdown",
   "metadata": {},
   "source": [
    "## **Q4**: Create a ten-element NumPy array object of all zeros and a six-element NumPy array object of all ones."
   ]
  },
  {
   "cell_type": "code",
   "execution_count": null,
   "metadata": {},
   "outputs": [],
   "source": [
    "import numpy as np\n",
    "\n",
    "\n",
    "zeros_array = np.zeros(10)  \n",
    "\n",
    "\n",
    "ones_array = np.ones(6)    \n",
    "\n",
    "print(\"Zeros array:\", zeros_array)\n",
    "print(\"Ones array:\", ones_array)"
   ]
  },
  {
   "cell_type": "markdown",
   "metadata": {},
   "source": [
    "## **Q5**: Given an 2-D array, print the third column."
   ]
  },
  {
   "cell_type": "code",
   "execution_count": null,
   "metadata": {},
   "outputs": [],
   "source": [
    "import numpy as np\n",
    "\n",
    "\n",
    "arr = np.array([[11, 22, 33],\n",
    "                [44, 55, 66],\n",
    "                [77, 88, 99]])\n",
    "\n",
    "\n",
    "third_column = arr[:, 2]\n"
   ]
  },
  {
   "cell_type": "markdown",
   "metadata": {},
   "source": [
    "## **Q6**: Create an array of the shape (3, 4), filled with 64-bit integer zeros."
   ]
  },
  {
   "cell_type": "code",
   "execution_count": null,
   "metadata": {},
   "outputs": [],
   "source": [
    "import numpy as np\n",
    "\n",
    "\n",
    "zeros_array = np.zeros((3, 4), dtype=np.int64)\n",
    "\n",
    "print(zeros_array)"
   ]
  },
  {
   "cell_type": "markdown",
   "metadata": {},
   "source": [
    "## **Q7**: Split an array into 3 equal-sized sub-arrays."
   ]
  },
  {
   "cell_type": "code",
   "execution_count": null,
   "metadata": {},
   "outputs": [],
   "source": [
    "import numpy as np\n",
    "\n",
    "arr = np.arange(7, 34, 1).reshape(9, 3)\n",
    "print(\"Original Array:\\n\", arr)\n"
   ]
  },
  {
   "cell_type": "markdown",
   "metadata": {},
   "source": [
    "## **Q8**: Return the last 2 elements by each of the first two rows of the (3,4) array. "
   ]
  },
  {
   "cell_type": "code",
   "execution_count": null,
   "metadata": {},
   "outputs": [],
   "source": [
    "import numpy as np\n",
    "\n",
    "arr = np.arange(1, 13, 1).reshape(3, 4)\n",
    "print(\"Original Array:\\n\", arr)"
   ]
  },
  {
   "cell_type": "markdown",
   "metadata": {},
   "source": [
    "## **Q9**: Return how many elements are greater than 5 in an array."
   ]
  },
  {
   "cell_type": "code",
   "execution_count": null,
   "metadata": {},
   "outputs": [],
   "source": [
    "import numpy as np\n",
    "\n",
    "arr = np.arange(1, 13, 1).reshape(3, 4)\n",
    "count = np.sum(arr > 5)  # Sums `True` values (1) where condition is met\n",
    "\n",
    "print(\"Number of elements > 5:\", count)"
   ]
  },
  {
   "cell_type": "markdown",
   "metadata": {},
   "source": [
    "## **Q10**: Delete the second column from an array and insert the following new column in the same place."
   ]
  },
  {
   "cell_type": "code",
   "execution_count": null,
   "metadata": {},
   "outputs": [
    {
     "name": "stdout",
     "output_type": "stream",
     "text": [
      "Direct replacement:\n",
      " [[ 1 37  3  4]\n",
      " [ 5 37  7  8]\n",
      " [ 9 37 11 12]]\n"
     ]
    }
   ],
   "source": [
    "input = np.array([[34, 72, 33], [82, 22, 32], [59, 84, 10]])\n",
    "insert_data = np.array([[37, 37, 37]])\n",
    "\n",
    "\n",
    "arr[:, 1] = insert_data.flatten()  \n",
    "print(\"Direct replacement:\\n\", arr)"
   ]
  },
  {
   "cell_type": "markdown",
   "metadata": {},
   "source": [
    "## **Q11**: Compute the Euclidean distance between each pair of consecutive points in a given 2D NumPy array and append the result as a new column. Pad with 0 for missing data.\n",
    "\n",
    "Euclidian distance between two points $(x_1, y_1)$ and $(x_2, y_2)$ is $\\sqrt{(x_2 - x_1)^2 + (y_2 - y_1)^2}$.  "
   ]
  },
  {
   "cell_type": "code",
   "execution_count": null,
   "metadata": {},
   "outputs": [],
   "source": [
    "input = np.array([[1, 2], [4, 6], [7, 8], [10, 10]])\n",
    "\n",
    "\n",
    "diff = np.diff(points, axis=0)  # Differences between consecutive points\n",
    "distances = np.sqrt(np.sum(diff**2, axis=1))  # Euclidean distances\n",
    "\n"
   ]
  },
  {
   "cell_type": "markdown",
   "metadata": {},
   "source": [
    "## **Q12**: Remove consecutive duplicates from a NumPy array."
   ]
  },
  {
   "cell_type": "code",
   "execution_count": null,
   "metadata": {},
   "outputs": [],
   "source": [
    "input = np.array([[1, 1], [2, 1], [3, 3], [3, 3], [2, 1], [1, 1]])\n",
    "\n",
    "\n",
    "def question_12(input):\n",
    "    raise NotImplementedError\n",
    "\n",
    "\n",
    "q12_sol = question_12(input)\n",
    "q12.check()"
   ]
  },
  {
   "cell_type": "markdown",
   "metadata": {},
   "source": [
    "## **Q13**: Given a 2D NumPy array representing strokes, normalize all rows by subtracting the mean of each column and dividing by the standard deviation, but avoid division by zero.\n",
    "$X_{\\text{normalized}} = \\frac{X - \\mu}{\\sigma}$"
   ]
  },
  {
   "cell_type": "code",
   "execution_count": null,
   "metadata": {},
   "outputs": [],
   "source": [
    "\n",
    "\n",
    "\n",
    "import numpy as np\n",
    "\n",
    "def safe_normalize(X):\n",
    "    \n",
    "    mu = np.mean(X, axis=0)\n",
    "    sigma = np.std(X, axis=0)\n",
    "    \n",
    "    \n",
    "    sigma[sigma == 0] = 1\n",
    "    \n",
    "    \n",
    "    X_normalized = (X - mu) / sigma\n",
    "    return X_normalized\n",
    "\n",
    "\n",
    "X = np.array([[1, 2, 3],\n",
    "              [4, 5, 6],\n",
    "              [7, 8, 9]])\n",
    "X_normalized = safe_normalize(X)\n",
    "print(\"Normalized array:\\n\", X_normalized)"
   ]
  },
  {
   "cell_type": "markdown",
   "metadata": {},
   "source": [
    "## **Q14**: Delete the second column from an array and insert a new column at the same position where each value is the sum of its corresponding row."
   ]
  },
  {
   "cell_type": "code",
   "execution_count": null,
   "metadata": {},
   "outputs": [],
   "source": [
    "import numpy as np\n",
    "\n",
    "\n",
    "arr = np.array([[1, 2, 3],\n",
    "                [4, 5, 6],\n",
    "                [7, 8, 9]])\n",
    "\n",
    "\n",
    "arr_deleted = np.delete(arr, 1, axis=1)\n",
    "\n",
    "\n",
    "row_sums = arr_deleted.sum(axis=1, keepdims=True)\n",
    "\n",
    "\n",
    "arr_final = np.insert(arr_deleted, 1, row_sums, axis=1)\n",
    "\n",
    "print(\"Final Array:\\n\", arr_final)"
   ]
  },
  {
   "cell_type": "markdown",
   "metadata": {},
   "source": [
    "## **Q15**: Extract Unique Characters from a NumPy Array of Strings\n",
    "Given a 1D NumPy array of strings, extract all unique characters present in the array and sort by their ASCII values."
   ]
  },
  {
   "cell_type": "code",
   "execution_count": null,
   "metadata": {},
   "outputs": [],
   "source": [
    "import numpy as np\n",
    "\n",
    "input_array = np.array([\"hello\", \"world\", \"numpy\", \"rocks\"])\n",
    "\n",
    "\n",
    "combined_string = ''.join(input_array)\n",
    "\n",
    "unique_chars = sorted(set(combined_string))\n",
    "\n",
    "print(\"Unique characters:\", unique_chars)"
   ]
  },
  {
   "cell_type": "markdown",
   "metadata": {},
   "source": [
    "## **Q16**: Generate a dictionary that maps each unique character to a unique index starting with 0, sorted by ascending ASCII value."
   ]
  },
  {
   "cell_type": "code",
   "execution_count": null,
   "metadata": {},
   "outputs": [],
   "source": [
    "import numpy as np\n",
    "\n",
    "input_array = np.array([\"a\", \"b\", \"c\", \"d\", \"a\", \"c\", \"e\"])\n",
    "\n",
    "\n",
    "unique_chars = sorted(np.unique(input_array))\n",
    "\n",
    "\n",
    "char_to_index = {char: idx for idx, char in enumerate(unique_chars)}\n",
    "\n",
    "print(\"Character to Index Mapping:\", char_to_index)"
   ]
  },
  {
   "cell_type": "markdown",
   "metadata": {},
   "source": [
    "## **Q17**: Convert a List of 2D traces into a Single NumPy Array\n",
    "Given a list of 2D traces (each being a NumPy array of shape `(N, 2)`), stack them into a single NumPy array."
   ]
  },
  {
   "cell_type": "code",
   "execution_count": null,
   "metadata": {},
   "outputs": [],
   "source": [
    "import numpy as np\n",
    "\n",
    "input_list = [np.array([[1, 2], [3, 4]]), \n",
    "              np.array([[5, 6], [7, 8], [9, 10]])]\n",
    "\n",
    "\n",
    "combined_array = np.vstack(input_list)\n",
    "\n",
    "print(\"Combined Array:\\n\", combined_array)"
   ]
  },
  {
   "cell_type": "markdown",
   "metadata": {},
   "source": [
    "## **Q18**: Convert a List of Text Labels into a NumPy Array of Integer Encodings\n",
    "Given a vocabulary dictionary and a string of space-separated labels, convert the text into a NumPy array of indices."
   ]
  },
  {
   "cell_type": "code",
   "execution_count": null,
   "metadata": {},
   "outputs": [],
   "source": [
    "import numpy as np\n",
    "\n",
    "\n",
    "label_to_index = {\n",
    "    \"hello\": 0,\n",
    "    \"numpy\": 1,\n",
    "    \"rocks\": 2,\n",
    "    \"world\": 3,\n",
    "    \"python\": 4,\n",
    "    \"data\": 5,\n",
    "    \"science\": 6,\n",
    "}\n",
    "\n",
    "\n",
    "labels = [\"hello\", \"world\", \"numpy\", \"rocks\", \"data\", \"python\"]\n",
    "\n",
    "\n",
    "encoded_array = np.array([label_to_index[label] for label in labels])\n",
    "\n",
    "print(\"Encoded Array:\", encoded_array)"
   ]
  },
  {
   "cell_type": "markdown",
   "metadata": {},
   "source": [
    "## **Q19**: Extract Non-Zero Differences from an Array\n",
    "Given a NumPy array of first-order differences, extract only non-zero differences using masking."
   ]
  },
  {
   "cell_type": "code",
   "execution_count": null,
   "metadata": {},
   "outputs": [],
   "source": [
    "import numpy as np\n",
    "\n",
    "arr = np.array([[3, 4], [0, 0], [-2, 1]])\n",
    "\n",
    "\n",
    "diff = np.diff(arr, axis=0)\n",
    "\n",
    "\n",
    "non_zero_diff = diff[~np.all(diff == 0, axis=1)]\n",
    "\n",
    "print(\"Non-zero differences:\\n\", non_zero_diff)"
   ]
  },
  {
   "cell_type": "markdown",
   "metadata": {},
   "source": [
    "## **Q20**: Time Series Data Transformation and Feature Engineering\n",
    "\n",
    "### *Problem Statement:*  \n",
    "You are given a time series dataset representing sensor readings from multiple devices. Each row consists of sensor values at a specific timestamp. Your task is to preprocess and extract meaningful features from the dataset by performing the following transformations:\n",
    "\n",
    "### *Steps to Follow:*\n",
    "1. Normalize Each Sensor Reading  \n",
    "- Subtract the mean and divide by the standard deviation for each column.  \n",
    "- Avoid division by zero by replacing std=0 with 1.  \n",
    "2. Detect and Mask Anomalous Values\n",
    "- If a sensor reading is more than 2.5 standard deviations away from the mean, replace it with NaN.\n",
    "3. Interpolate Missing Values (NaN Handling)\n",
    "- Fill NaN values with the average of the nearest non-NaN neighbors.\n",
    "4. Extract First-Order Differences\n",
    "- Compute the difference between consecutive time steps for each sensor.\n",
    "- Padding with 0 for missing data\n",
    "5. Add Binary Columns for Missing Data\n",
    "- Stack All Features into a Final Matrix\n",
    "Create new columns `missing_flag` that is `1` where original data was `NaN`, otherwise `0`.\n",
    "6. Stack All Features into a Final Matrix\n",
    "- The final dataset should have normalized values, first-order differences, and the missing flag.\n",
    "\n",
    "Expected shape (5, 9)"
   ]
  },
  {
   "cell_type": "code",
   "execution_count": 1,
   "metadata": {},
   "outputs": [
    {
     "name": "stdout",
     "output_type": "stream",
     "text": [
      "Final output shape: (5, 9)\n",
      "Final output:\n",
      "[[-1.41421356 -1.41421356 -0.55118039  0.          0.          0.\n",
      "   0.          0.          0.        ]\n",
      " [-0.70710678 -0.70710678 -0.52542429  0.70710678  0.70710678  0.02575609\n",
      "   0.          0.          0.        ]\n",
      " [ 0.          0.          1.99867281  0.70710678  0.70710678  2.5240971\n",
      "   0.          0.          0.        ]\n",
      " [ 0.70710678  0.70710678 -0.47391211  0.70710678  0.70710678 -2.47258492\n",
      "   0.          0.          0.        ]\n",
      " [ 1.41421356  1.41421356 -0.44815602  0.70710678  0.70710678  0.02575609\n",
      "   0.          0.          0.        ]]\n"
     ]
    }
   ],
   "source": [
    "import numpy as np\n",
    "from numpy import nan\n",
    "\n",
    "def preprocess_time_series(input):\n",
    "    \n",
    "    mean = np.mean(input, axis=0)\n",
    "    std = np.std(input, axis=0)\n",
    "    std[std == 0] = 1\n",
    "    normalized = (input - mean) / std\n",
    "\n",
    "    \n",
    "    anomaly_mask = np.abs(normalized) > 2.5\n",
    "    normalized_with_nan = normalized.copy()\n",
    "    normalized_with_nan[anomaly_mask] = nan\n",
    "\n",
    "   \n",
    "    def interpolate_nan(arr):\n",
    "        for col in range(arr.shape[1]):\n",
    "            nan_indices = np.isnan(arr[:, col])\n",
    "            if not np.any(nan_indices):\n",
    "                continue\n",
    "            valid_indices = np.where(~nan_indices)[0]\n",
    "            for i in np.where(nan_indices)[0]:\n",
    "                left = valid_indices[valid_indices < i]\n",
    "                right = valid_indices[valid_indices > i]\n",
    "                if len(left) == 0 and len(right) == 0:\n",
    "                    continue\n",
    "                elif len(left) == 0:\n",
    "                    arr[i, col] = arr[right[0], col]\n",
    "                elif len(right) == 0:\n",
    "                    arr[i, col] = arr[left[-1], col]\n",
    "                else:\n",
    "                    arr[i, col] = (arr[left[-1], col] + arr[right[0], col]) / 2\n",
    "        return arr\n",
    "\n",
    "    interpolated = interpolate_nan(normalized_with_nan.copy())\n",
    "\n",
    "\n",
    "    first_order_diff = np.zeros_like(interpolated)\n",
    "    first_order_diff[1:] = np.diff(interpolated, axis=0)\n",
    "\n",
    "   \n",
    "    missing_flag = np.zeros_like(normalized_with_nan)\n",
    "    missing_flag[np.isnan(normalized_with_nan)] = 1\n",
    "\n",
    "    \n",
    "    final_matrix = np.hstack([interpolated, first_order_diff, missing_flag])\n",
    "\n",
    "    return final_matrix\n",
    "\n",
    "\n",
    "input = np.array(\n",
    "    [\n",
    "        [1.0, 10.0, 100.0],\n",
    "        [2.0, 20.0, 200.0],\n",
    "        [3.0, 30.0, 10000.0],  # Outlier in third column\n",
    "        [4.0, 40.0, 400.0],\n",
    "        [5.0, 50.0, 500.0],\n",
    "    ]\n",
    ")\n",
    "\n",
    "output = preprocess_time_series(input)\n",
    "print(\"Final output shape:\", output.shape)\n",
    "print(\"Final output:\")\n",
    "print(output)"
   ]
  }
 ],
 "metadata": {
  "kernelspec": {
   "display_name": "Python 3",
   "language": "python",
   "name": "python3"
  },
  "language_info": {
   "codemirror_mode": {
    "name": "ipython",
    "version": 3
   },
   "file_extension": ".py",
   "mimetype": "text/x-python",
   "name": "python",
   "nbconvert_exporter": "python",
   "pygments_lexer": "ipython3",
   "version": "3.12.1"
  }
 },
 "nbformat": 4,
 "nbformat_minor": 2
}
